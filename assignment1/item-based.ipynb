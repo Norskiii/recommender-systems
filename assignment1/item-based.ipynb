{
 "cells": [
  {
   "cell_type": "code",
   "execution_count": null,
   "id": "cf12bbab-f298-413f-b446-428be16e948a",
   "metadata": {},
   "outputs": [],
   "source": [
    "import numpy as np\n",
    "from numpy.linalg import norm\n",
    "import pandas as pd\n",
    "from scipy import stats\n",
    "from scipy import spatial\n",
    "import matplotlib.pyplot as plt\n",
    "import seaborn as sb"
   ]
  },
  {
   "cell_type": "markdown",
   "id": "ee2d9380-773c-4a3f-952b-5c22a605b65a",
   "metadata": {},
   "source": [
    "## Display information"
   ]
  },
  {
   "cell_type": "code",
   "execution_count": null,
   "id": "56969803-0aad-4809-9c9a-3ae51e586267",
   "metadata": {},
   "outputs": [],
   "source": [
    "names = ['userid', 'itemid', 'rating', 'timestamp']\n",
    "raw_data = pd.read_csv('./ml-100k/u.data', sep='\\t', names=names)\n",
    "\n",
    "print('Count of ratings', len(raw_data))\n",
    "print('First ten rows')\n",
    "print(raw_data[0:10])\n",
    "\n",
    "# save data in a numpy array where each user ratings have their own rows\n",
    "userids = sorted(list(raw_data['userid'].unique()))\n",
    "itemids = sorted(list(raw_data['itemid'].unique()))\n",
    "\n",
    "# first save in list of lists, use None values if user has not rated item\n",
    "data = [[None] * len(userids) for x in range(len(itemids))]\n",
    "\n",
    "# find ratings made by each user\n",
    "for i in range(len(itemids)):\n",
    "    # dict of ratings for item i+1 (key = userid, value = rating)\n",
    "    item_ratings = dict(zip(raw_data.loc[raw_data['itemid'] == (i+1)].userid, raw_data.loc[raw_data['itemid'] == (i+1)].rating))\n",
    "    for j in range(len(userids)):\n",
    "        # check if user has rated item with id j+1\n",
    "        if j+1 in item_ratings:\n",
    "            data[i][j] = item_ratings[j+1]\n",
    "\n",
    "data = np.array(data)\n",
    "print(data.shape)"
   ]
  },
  {
   "cell_type": "code",
   "execution_count": null,
   "id": "424bac9e-8d42-48aa-a2da-6dbcb5328aeb",
   "metadata": {},
   "outputs": [],
   "source": [
    "# a = item a itemid, b = item b itemid, data = whole dataset\n",
    "def cosine_similarity(a, b, data):\n",
    "    # ratings for items a and b\n",
    "    data_a = data[a-1] # indexing starts at one\n",
    "    data_b = data[b-1]\n",
    "\n",
    "    # dicts with userids and ratings\n",
    "    dict_a = {u: r for u, r in enumerate(data_a, start=1) if r is not None}\n",
    "    dict_b = {u: r for u, r in enumerate(data_b, start=1) if r is not None}\n",
    "\n",
    "    # intersection between two sets\n",
    "    P = list(set(dict_a).intersection(set(dict_b)))\n",
    "\n",
    "    dict_a = {id: dict_a[id] for id in P}\n",
    "    dict_b = {id: dict_b[id] for id in P}\n",
    "\n",
    "    mean_a = np.mean(list(dict_a.values()))\n",
    "    mean_b = np.mean(list(dict_b.values()))\n",
    "    n = 0\n",
    "    d1 = 0\n",
    "    d2 = 0\n",
    "\n",
    "    # calculate sums\n",
    "    for userid in P:\n",
    "        n += ((dict_a[userid] - mean_a) * (dict_b[userid] - mean_b))\n",
    "        d1 += ((dict_a[userid] - mean_a) ** 2)\n",
    "        d2 += ((dict_b[userid] - mean_b) ** 2)\n",
    "    \n",
    "    if n == 0:\n",
    "        return 0\n",
    "\n",
    "    sim = n / (np.sqrt(d1) * np.sqrt(d2))\n",
    "\n",
    "\n",
    "    #scipy_sim = 1-spatial.distance.cosine(list(dict_a.values()), list(dict_b.values()))\n",
    "    #if np.round(sim, 10) == np.round(scipy_sim, 10):\n",
    "    #    print(sim, scipy_sim)\n",
    "    #    print('all ok')\n",
    "    #else:\n",
    "    #    print(sim, scipy_sim)\n",
    "    #    print(\"Not okay\")\n",
    " \n",
    "    return sim\n",
    "cosine_similarity(567, 123, data)"
   ]
  },
  {
   "cell_type": "markdown",
   "metadata": {},
   "source": [
    "### Similarity matrix of all items (makes calculations faster)"
   ]
  },
  {
   "cell_type": "code",
   "execution_count": null,
   "metadata": {},
   "outputs": [],
   "source": [
    "sim_matrix = [[1] * len(itemids) for x in range(len(itemids))]\n",
    "for i in range(len(itemids)):\n",
    "    for j in range(i+1, len(itemids)):\n",
    "        sim_matrix[i][j] = sim_matrix[j][i] = cosine_similarity(i+1, j+1, data)"
   ]
  },
  {
   "cell_type": "code",
   "execution_count": null,
   "metadata": {},
   "outputs": [],
   "source": [
    "test_matrix = [[1] * int(len(itemids)/23) for x in range(int(len(itemids)/23))]\n",
    "for i in range(int(len(itemids)/23)):\n",
    "    for j in range(i+1, int(len(itemids)/23)):\n",
    "        test_matrix[i][j] = test_matrix[j][i] = cosine_similarity(i+1, j+1, data)\n",
    "\n",
    "test_matrix = np.array(test_matrix)\n",
    "\n",
    "# heatmap of the similarity matrix\n",
    "sb.heatmap(test_matrix)\n",
    "plt.title('Similarity matrix of users 1 to 41')\n",
    "plt.show()"
   ]
  },
  {
   "cell_type": "code",
   "execution_count": null,
   "metadata": {},
   "outputs": [],
   "source": [
    "# u = userid, p = itemid, data = whole data set, sim = item similarity vector, n = number of neighbours\n",
    "def cosine_predict(u, p, data, sim, n):\n",
    "    movies_seen = data[u-1]"
   ]
  }
 ],
 "metadata": {
  "interpreter": {
   "hash": "c7ca8f34926b3cc197312b261d4fe8e44a0a6c3f78c576eb8da8e877f545a287"
  },
  "kernelspec": {
   "display_name": "Python 3.9.7 64-bit ('recommender': conda)",
   "name": "python3"
  },
  "language_info": {
   "codemirror_mode": {
    "name": "ipython",
    "version": 3
   },
   "file_extension": ".py",
   "mimetype": "text/x-python",
   "name": "python",
   "nbconvert_exporter": "python",
   "pygments_lexer": "ipython3",
   "version": "3.9.7"
  }
 },
 "nbformat": 4,
 "nbformat_minor": 5
}
