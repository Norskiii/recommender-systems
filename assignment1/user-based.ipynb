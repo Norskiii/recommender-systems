{
 "cells": [
  {
   "cell_type": "code",
   "execution_count": 1,
   "metadata": {},
   "outputs": [],
   "source": [
    "import numpy as np\n",
    "import pandas as pd\n",
    "from scipy import stats\n",
    "import matplotlib.pyplot as plt\n",
    "import seaborn as sb"
   ]
  },
  {
   "cell_type": "markdown",
   "metadata": {},
   "source": [
    "## Read file and display some data"
   ]
  },
  {
   "cell_type": "code",
   "execution_count": 2,
   "metadata": {},
   "outputs": [
    {
     "name": "stdout",
     "output_type": "stream",
     "text": [
      "Count of ratings 100000\n",
      "First ten rows\n",
      "   userid  itemid  rating  timestamp\n",
      "0     196     242       3  881250949\n",
      "1     186     302       3  891717742\n",
      "2      22     377       1  878887116\n",
      "3     244      51       2  880606923\n",
      "4     166     346       1  886397596\n",
      "5     298     474       4  884182806\n",
      "6     115     265       2  881171488\n",
      "7     253     465       5  891628467\n",
      "8     305     451       3  886324817\n",
      "9       6      86       3  883603013\n"
     ]
    }
   ],
   "source": [
    "names = ['userid', 'itemid', 'rating', 'timestamp']\n",
    "raw_data = pd.read_csv('./ml-100k/u.data', sep='\\t', names=names)\n",
    "\n",
    "print('Count of ratings', len(raw_data))\n",
    "print('First ten rows')\n",
    "print(raw_data[0:10])\n",
    "\n",
    "# save data in a numpy array where each user ratings have their own rows\n",
    "userids = sorted(list(raw_data['userid'].unique()))\n",
    "itemids = sorted(list(raw_data['itemid'].unique()))\n",
    "\n",
    "# first save in list of lists, use None values if user has not rated item\n",
    "data = [[None] * len(itemids) for x in range(len(userids))]\n",
    "\n",
    "# find ratings made by each user\n",
    "for i in range(len(userids)):\n",
    "    # dict of ratings for user i+1 (key = itemid, value = rating)\n",
    "    user_ratings = dict(zip(raw_data.loc[raw_data['userid'] == (i+1)].itemid, raw_data.loc[raw_data['userid'] == (i+1)].rating))\n",
    "    for j in range(len(itemids)):\n",
    "        # check if user has rated item with id j+1\n",
    "        if j+1 in user_ratings:\n",
    "            data[i][j] = user_ratings[j+1]\n",
    "\n",
    "data = np.array(data)"
   ]
  },
  {
   "cell_type": "markdown",
   "metadata": {},
   "source": [
    "## User-based collaborativve filtering approach using Pearson correlation function"
   ]
  },
  {
   "cell_type": "code",
   "execution_count": 3,
   "metadata": {},
   "outputs": [],
   "source": [
    "# a, b = userids, data = whole data set\n",
    "def pearson_correlation(a, b, data):\n",
    "    # ratings of users a and b\n",
    "    data_a = data[a-1] # remember that indexing starts from 0, but userids from 1\n",
    "    data_b = data[b-1]\n",
    "\n",
    "    # dicts with itemids and ratings\n",
    "    dict_a = {i: r for i, r in enumerate(data_a, start=1) if r is not None}\n",
    "    dict_b = {i: r for i, r in enumerate(data_b, start=1) if r is not None}\n",
    "\n",
    "    # intersections of common itemids\n",
    "    P = list(set(dict_a).intersection(set(dict_b)))\n",
    "\n",
    "    # keep only common itemids\n",
    "    dict_a = {id: dict_a[id] for id in P}\n",
    "    dict_b = {id: dict_b[id] for id in P}\n",
    "\n",
    "    mean_a = np.mean(list(dict_a.values()))\n",
    "    mean_b = np.mean(list(dict_b.values()))\n",
    "    n = 0\n",
    "    d1 = 0\n",
    "    d2 = 0\n",
    "    \n",
    "    # calculate sums\n",
    "    for item in P:\n",
    "        n += ((dict_a[item] - mean_a) * (dict_b[item] - mean_b))\n",
    "        d1 += ((dict_a[item] - mean_a) ** 2)\n",
    "        d2 += ((dict_b[item] - mean_b) ** 2)\n",
    "    \n",
    "    # handle cases where n == 0 and d might be zero as well\n",
    "    if n == 0:\n",
    "        return 0\n",
    "\n",
    "    sim = n / (np.sqrt(d1) * np.sqrt(d2))\n",
    "    \n",
    "    # TEST CODE TO CHECK CALCULATIONS, REMOVE BEFORE SUBMISSION?\n",
    "    # compare to scipys result, with some values the 16th decimal can be different -> round to 10 decimal places\n",
    "    #scipy_sim, p = stats.pearsonr(list(dict_a.values()), list(dict_b.values()))\n",
    "    #if np.round(sim, 10) == np.round(scipy_sim, 10):\n",
    "    #    print(sim, scipy_sim)\n",
    "    #    print('all ok')\n",
    "    \n",
    "    return sim"
   ]
  },
  {
   "cell_type": "markdown",
   "metadata": {},
   "source": [
    "#### Similarity matrix of all users (makes later calculations faster)"
   ]
  },
  {
   "cell_type": "code",
   "execution_count": 11,
   "metadata": {},
   "outputs": [],
   "source": [
    "sim_matrix = [[1] * len(userids) for x in range(len(userids))]\n",
    "for i in range(len(userids)):\n",
    "    for j in range(i+1, len(userids)):\n",
    "        sim_matrix[i][j] = sim_matrix[j][i] = pearson_correlation(i+1, j+1, data)\n",
    "\n",
    "sim_matrix = np.array(sim_matrix)"
   ]
  },
  {
   "cell_type": "code",
   "execution_count": 12,
   "metadata": {},
   "outputs": [
    {
     "data": {
      "image/png": "[encoded data removed]",
      "text/plain": [
       "<Figure size 432x288 with 2 Axes>"
      ]
     },
     "metadata": {
      "needs_background": "light"
     },
     "output_type": "display_data"
    }
   ],
   "source": [
    "# test with smaller data size (41 users)\n",
    "test_matrix = [[1] * int(len(userids)/23) for x in range(int(len(userids)/23))]\n",
    "for i in range(int(len(userids)/23)):\n",
    "    for j in range(i+1, int(len(userids)/23)):\n",
    "        test_matrix[i][j] = test_matrix[j][i] = pearson_correlation(i+1, j+1, data)\n",
    "\n",
    "test_matrix = np.array(test_matrix)\n",
    "\n",
    "# heatmap of the similarity matrix\n",
    "sb.heatmap(test_matrix)\n",
    "plt.title('Similarity matrix of users 1 to 41')\n",
    "plt.show()"
   ]
  },
  {
   "cell_type": "markdown",
   "metadata": {},
   "source": [
    "## Prediction function for predicting movie scores"
   ]
  },
  {
   "cell_type": "code",
   "execution_count": 13,
   "metadata": {},
   "outputs": [],
   "source": [
    "# a = userid, p = itemid, data = whole data set, \n",
    "# sim = similarities between given user a and other users, t = similarity threshold\n",
    "def pearson_predict(a, p, data, sim, t):\n",
    "    # mean of ratings given by user a\n",
    "    mean_a = np.mean([r for r in data[a-1] if r is not None])\n",
    "\n",
    "    # transform similarities to dict (key = userid, value = similarity) and filter out unvanted similarities\n",
    "    sim = {i: s for i, s in enumerate(sim, start=1) if s >= t}\n",
    "\n",
    "    n = 0\n",
    "    d = 0\n",
    "\n",
    "    for b in sim:\n",
    "        # chekc if similar user has not rated the item\n",
    "        if data[b-1][p-1] == None:\n",
    "            continue\n",
    "\n",
    "        mean_b = np.mean([r for r in data[b-1] if r is not None])\n",
    "        n += sim[b] * (data[b-1][p-1] - mean_b)\n",
    "        d += sim[b]\n",
    "\n",
    "    if n == 0:\n",
    "        return mean_a\n",
    "\n",
    "    return mean_a + n/d"
   ]
  },
  {
   "cell_type": "markdown",
   "metadata": {},
   "source": [
    "## Show n most similar users for any given user"
   ]
  },
  {
   "cell_type": "code",
   "execution_count": 14,
   "metadata": {},
   "outputs": [],
   "source": [
    "def n_most_similar_users(n, sim):\n",
    "    # transform similarities to dict (key = userid, value = similarity)\n",
    "    sim = {i: s for i, s in enumerate(sim, start=1)}\n",
    "\n",
    "    # sort similarities based on dict values and return n highest values\n",
    "    sim = dict(sorted(sim.items(), key=lambda x: x[1], reverse=True))\n",
    "    return dict(list(sim.items())[:n])"
   ]
  },
  {
   "cell_type": "markdown",
   "metadata": {},
   "source": [
    "## Ten most similar users to user 345"
   ]
  },
  {
   "cell_type": "code",
   "execution_count": 16,
   "metadata": {},
   "outputs": [
    {
     "name": "stdout",
     "output_type": "stream",
     "text": [
      "   userid  similarity\n",
      "0      51    1.000000\n",
      "1     700    1.000000\n",
      "2      15    1.000000\n",
      "3     218    1.000000\n",
      "4     358    1.000000\n",
      "5     369    1.000000\n",
      "6     225    1.000000\n",
      "7     685    0.948683\n",
      "8     609    0.911967\n",
      "9     607    0.904534\n"
     ]
    }
   ],
   "source": [
    "USER = 15\n",
    "n = 10\n",
    "users = n_most_similar_users(n, sim_matrix[USER-1])\n",
    "df = pd.DataFrame(list(zip(list(users.keys()), list(users.values()))), columns=['userid', 'similarity'])\n",
    "print(df)"
   ]
  },
  {
   "cell_type": "markdown",
   "metadata": {},
   "source": [
    "## Recommended 20 movies for the same user"
   ]
  },
  {
   "cell_type": "code",
   "execution_count": 24,
   "metadata": {},
   "outputs": [
    {
     "name": "stdout",
     "output_type": "stream",
     "text": [
      "    itemid  rating pred\n",
      "0      287     5.482143\n",
      "1      741     4.946795\n",
      "2      853     4.946795\n",
      "3      532     4.843992\n",
      "4      372     4.840753\n",
      "5     1167     4.840753\n",
      "6     1400     4.840753\n",
      "7     1137     4.678529\n",
      "8     1062     4.532895\n",
      "9      972     4.525485\n",
      "10    1639     4.525485\n",
      "11    1125     4.498188\n",
      "12    1306     4.498188\n",
      "13    1503     4.489458\n",
      "14     835     4.325445\n",
      "15     371     4.318432\n",
      "16     553     4.293079\n",
      "17    1053     4.293079\n",
      "18    1282     4.293079\n",
      "19     898     4.290179\n"
     ]
    }
   ],
   "source": [
    "# find items the user has not rated\n",
    "items = [m for m, r in enumerate(data[USER-1], start=1) if r is None]\n",
    "\n",
    "predictions = {}\n",
    "\n",
    "for item in items:\n",
    "    predictions[item] = pearson_predict(USER, item, data, sim_matrix[USER-1], 0.5)\n",
    "\n",
    "# sort predictions and take 20 highest\n",
    "most_relevant = dict(sorted(predictions.items(), key=lambda x: x[1], reverse=True))\n",
    "df = pd.DataFrame(list(zip(list(most_relevant.keys()), list(most_relevant.values()))), columns=['itemid', 'rating pred'])[:20]\n",
    "print(df)\n"
   ]
  }
 ],
 "metadata": {
  "interpreter": {
   "hash": "c7ca8f34926b3cc197312b261d4fe8e44a0a6c3f78c576eb8da8e877f545a287"
  },
  "kernelspec": {
   "display_name": "Python 3.9.7 64-bit ('recommender': conda)",
   "name": "python3"
  },
  "language_info": {
   "codemirror_mode": {
    "name": "ipython",
    "version": 3
   },
   "file_extension": ".py",
   "mimetype": "text/x-python",
   "name": "python",
   "nbconvert_exporter": "python",
   "pygments_lexer": "ipython3",
   "version": "3.9.7"
  }
 },
 "nbformat": 4,
 "nbformat_minor": 4
}
