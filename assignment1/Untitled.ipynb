{
 "cells": [
  {
   "cell_type": "code",
   "execution_count": 1,
   "id": "1e622f8e-eb80-4333-bb7f-619c61f720da",
   "metadata": {},
   "outputs": [],
   "source": [
    "import pandas as pd\n",
    "import numpy as np"
   ]
  },
  {
   "cell_type": "markdown",
   "id": "5387fe1a-a41c-47be-a57c-89c2fc1fa592",
   "metadata": {},
   "source": [
    "Load dataset and display some data\n"
   ]
  },
  {
   "cell_type": "code",
   "execution_count": 2,
   "id": "dbfc0d7d-531f-45af-852f-dc3ff1ea7d5d",
   "metadata": {},
   "outputs": [
    {
     "name": "stdout",
     "output_type": "stream",
     "text": [
      "Count of ratings 100000\n",
      "First ten rows\n",
      "   userid  itemid  rating  timestamp\n",
      "0     196     242       3  881250949\n",
      "1     186     302       3  891717742\n",
      "2      22     377       1  878887116\n",
      "3     244      51       2  880606923\n",
      "4     166     346       1  886397596\n",
      "5     298     474       4  884182806\n",
      "6     115     265       2  881171488\n",
      "7     253     465       5  891628467\n",
      "8     305     451       3  886324817\n",
      "9       6      86       3  883603013\n"
     ]
    }
   ],
   "source": [
    "names = ['userid', 'itemid', 'rating', 'timestamp']\n",
    "data = pd.read_csv('./ml-100k/u.data', sep='\\t', names=names)\n",
    "\n",
    "print('Count of ratings', len(data))\n",
    "print('First ten rows')\n",
    "print(data[0:10])"
   ]
  },
  {
   "cell_type": "code",
   "execution_count": 3,
   "id": "bbf39708-8a96-403d-bda9-b4c49fac2d70",
   "metadata": {},
   "outputs": [],
   "source": [
    "# a, b = userid, data = whole dataset\n",
    "def pearson_correlation(a, b, data):\n",
    "    P_a = data.loc[data['userid'] == a]\n",
    "    P_b = data.loc[data['userid'] == b]\n",
    "    \n",
    "    # means for a and b ratings\n",
    "    r_a = P_a['rating'].mean()\n",
    "    r_b = P_b['rating'].mean()\n",
    "\n",
    "    P = pd.merge(P_a, P_b, how='inner', on=['itemid'])\n",
    "    P = P.rename(columns={'rating_x': 'r_ap', 'rating_y': 'r_bp'})\n",
    "    \n",
    "    # If no common movies, return similarity 0\n",
    "    if len(P) == 0:\n",
    "        return 0\n",
    "    \n",
    "    # r_ap and r_bp normalized values\n",
    "    r_a_norm = P['r_ap'] - r_a\n",
    "    r_b_norm = P['r_bp'] - r_b\n",
    "    \n",
    "    # denominator and nominator\n",
    "    n = np.sum(np.multiply(r_a_norm, r_b_norm))\n",
    "    d = np.sqrt(np.sum(np.multiply(r_a_norm, r_a_norm))) * np.sqrt(np.sum(np.multiply(r_b_norm, r_b_norm)))\n",
    "    \n",
    "    # handle divide zero error case (n and d are both zeros, it seems)\n",
    "    if n == 0:\n",
    "        return 0\n",
    "    \n",
    "    return n/d"
   ]
  },
  {
   "cell_type": "code",
   "execution_count": 4,
   "id": "a31a4b82-7b93-4104-aed9-78c2edb92f8d",
   "metadata": {},
   "outputs": [],
   "source": [
    "# a = userid, p = itemid, data = whole dataset, n = neighborhood size, neighbours = sorted dataframe of user similarities\n",
    "def pearson_predict(a, p, data, n=99999, neighbours=pd.DataFrame()):\n",
    "    P_a = data.loc[data['userid'] == a]\n",
    "    \n",
    "    # mean of ratings for user a\n",
    "    r_a = P_a['rating'].mean()\n",
    "    # all rows where itemid is p\n",
    "    N = data.loc[data['itemid'] == p]\n",
    "\n",
    "    # if similar users are given, use them\n",
    "    if not neighbours.empty:\n",
    "        rows = []\n",
    "        \n",
    "        i = 0 # found similar users that have seen movie p\n",
    "        j = 0 # iterations, break if it goes over the number of people that have seen movie p\n",
    "        while i < n:\n",
    "            user = neighbours.iloc[j]['userid']\n",
    "            row = N.loc[N['userid'] == user]\n",
    "            if not row.empty:\n",
    "                rows.append(row)\n",
    "                i += 1\n",
    "            if j > len(N):\n",
    "                break\n",
    "            j += 1\n",
    "        if i > 0:\n",
    "            N = pd.concat(rows)  \n",
    "        \n",
    "    # check if given neighbourhood size n is larger than N\n",
    "    if len(N) < n:\n",
    "        n = len(N)\n",
    "    \n",
    "    similarities = []\n",
    "    r_b_norms = []\n",
    "\n",
    "    for index, b in N.iterrows():\n",
    "        if b['userid'] != a:\n",
    "            sim = pearson_correlation(a, b['userid'], data)\n",
    "            \n",
    "            # ignore negative similarity\n",
    "            if sim < 0:\n",
    "                continue\n",
    "                \n",
    "            similarities.append(sim)\n",
    "\n",
    "            # All ratings for user b and mean of them\n",
    "            P_b = data.loc[data['userid'] == b['userid']]\n",
    "            r_b = P_b['rating'].mean()\n",
    "            \n",
    "            # normalized ratings for user b\n",
    "            r_b_norms.append(b['rating'] - r_b)\n",
    "    \n",
    "    \n",
    "    n = np.sum(np.multiply(similarities, r_b_norms))\n",
    "    d = np.sum(similarities)\n",
    "    \n",
    "    if n == 0 or d == 0:\n",
    "        return r_a\n",
    "    \n",
    "    return r_a + np.divide(n,d)    "
   ]
  },
  {
   "cell_type": "code",
   "execution_count": 5,
   "id": "9ebce951-eea1-4fb4-85e0-12692942909b",
   "metadata": {},
   "outputs": [
    {
     "name": "stdout",
     "output_type": "stream",
     "text": [
      "Ten most similar users for user 10\n",
      "     userid       sim\n",
      "337     341  1.000000\n",
      "715     718  1.000000\n",
      "170      61  0.952912\n",
      "160     101  0.884358\n",
      "682     689  0.842348\n",
      "382     386  0.834023\n",
      "49      260  0.812070\n",
      "134      36  0.792138\n",
      "551     550  0.790019\n",
      "356     356  0.789812\n"
     ]
    }
   ],
   "source": [
    "def n_most_similar_users(a, n, data):\n",
    "    all_users = data['userid'].unique()\n",
    "    similarities = []\n",
    "    similar_users = []\n",
    "    \n",
    "    for u in all_users:\n",
    "        if a != u:\n",
    "            similar_users.append(u)\n",
    "            similarities.append(pearson_correlation(a, u, data))\n",
    "    \n",
    "    sim = pd.DataFrame(list(zip(similar_users, similarities)), columns=['userid', 'sim'])\n",
    "    return sim.sort_values(by=['sim'], ascending=False)[0:n]\n",
    "\n",
    "# Find 10 most similar users for this user\n",
    "user = 10\n",
    "sim = n_most_similar_users(user, 10, data)\n",
    "print('Ten most similar users for user', user)\n",
    "print(sim)"
   ]
  },
  {
   "cell_type": "code",
   "execution_count": 6,
   "id": "fa446712-6b94-429a-a7af-472a1729498b",
   "metadata": {},
   "outputs": [
    {
     "name": "stdout",
     "output_type": "stream",
     "text": [
      "User 10 20 most relevant movies.\n",
      "      itemid      pred\n",
      "970      814  6.109037\n",
      "1024     952  6.008605\n",
      "1115    1536  5.911148\n",
      "413      761  5.909224\n",
      "951     1463  5.739144\n",
      "1435    1467  5.698352\n",
      "31       201  5.688505\n",
      "404      251  5.671678\n",
      "518     1142  5.637087\n",
      "1378    1599  5.624773\n",
      "919      902  5.606522\n",
      "142      408  5.605599\n",
      "106      466  5.535554\n",
      "1242    1080  5.522801\n",
      "554      855  5.492236\n",
      "455      616  5.492236\n",
      "1252    1293  5.476847\n",
      "950     1500  5.420807\n",
      "1418    1662  5.417729\n",
      "676      883  5.406522\n"
     ]
    }
   ],
   "source": [
    "# 20 most relevant movies for this user\n",
    "user = 10\n",
    "\n",
    "# movies the user has seen\n",
    "user_movies = data.loc[data['userid'] == user]\n",
    "\n",
    "# all itemids\n",
    "all_movies = data['itemid'].unique()\n",
    "\n",
    "# similariteis between user and all other users\n",
    "sim = n_most_similar_users(user, 942, data)\n",
    "\n",
    "predictions = []\n",
    "itemids = []\n",
    "\n",
    "for itemid in all_movies:\n",
    "    # check that user has not seen the movie\n",
    "    if user_movies.loc[user_movies['itemid'] == itemid].empty:\n",
    "        predictions.append(pearson_predict(user, itemid, data, 10, sim))\n",
    "        itemids.append(itemid)\n",
    "\n",
    "        \n",
    "relevant_movies = pd.DataFrame(list(zip(itemids, predictions)), columns=['itemid', 'pred'])\n",
    "relevant_movies = relevant_movies.sort_values(by=['pred'], ascending=False)[0:20]\n",
    "\n",
    "print('User', user, '20 most relevant movies.')\n",
    "print(relevant_movies)"
   ]
  },
  {
   "cell_type": "code",
   "execution_count": 298,
   "id": "d82ec08c-6f86-4e7b-aa55-5b32853329d5",
   "metadata": {},
   "outputs": [
    {
     "name": "stdout",
     "output_type": "stream",
     "text": [
      "6\n",
      "0.08127607612801803\n",
      "0.07311039558598809\n",
      "0.49442379313504436\n",
      "0.10748891293114388\n",
      "0.2810733488177051\n",
      "0.09187341912163241\n",
      "1.0373725265978995\n",
      "2.963563574575215\n"
     ]
    }
   ],
   "source": [
    "# testing the predictions, delete before submission\n",
    "sim = n_most_similar_users(15, 942, data)\n",
    "prediction = pearson_predict(15, 1355, data)\n",
    "print(prediction)"
   ]
  }
 ],
 "metadata": {
  "interpreter": {
   "hash": "0f003dec6ba308691a84b457b1e8a70b369dfcd15d207cf34485669f808cefed"
  },
  "kernelspec": {
   "display_name": "Python 3.9.7 64-bit ('recommender': conda)",
   "name": "python3"
  },
  "language_info": {
   "codemirror_mode": {
    "name": "ipython",
    "version": 3
   },
   "file_extension": ".py",
   "mimetype": "text/x-python",
   "name": "python",
   "nbconvert_exporter": "python",
   "pygments_lexer": "ipython3",
   "version": "3.9.7"
  }
 },
 "nbformat": 4,
 "nbformat_minor": 5
}
