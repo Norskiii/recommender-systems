{
 "cells": [
  {
   "cell_type": "code",
   "execution_count": 176,
   "metadata": {},
   "outputs": [],
   "source": [
    "import numpy as np\n",
    "import pandas as pd\n",
    "import matplotlib.pyplot as plt\n",
    "from scipy import stats\n",
    "from dataclasses import dataclass, field\n",
    "from typing import List\n",
    "from matplotlib.lines import Line2D\n",
    "import math"
   ]
  },
  {
   "cell_type": "code",
   "execution_count": 44,
   "metadata": {},
   "outputs": [],
   "source": [
    "# Read data rating data\n",
    "names = ['userid', 'itemid', 'rating', 'timestamp']\n",
    "raw_data = pd.read_csv('./ml-100k/u.data', sep='\\t', names=names)\n",
    "\n",
    "# save data in a numpy array where each user ratings have their own rows\n",
    "userids = sorted(list(raw_data['userid'].unique()))\n",
    "itemids = sorted(list(raw_data['itemid'].unique()))\n",
    "\n",
    "# first save in list of lists, use None values if user has not rated item\n",
    "data = [[None] * len(itemids) for x in range(len(userids))]\n",
    "\n",
    "# find ratings made by each user\n",
    "for i in range(len(userids)):\n",
    "    # dict of ratings for user i+1 (key = itemid, value = rating)\n",
    "    user_ratings = dict(zip(raw_data.loc[raw_data['userid'] == (i+1)].itemid, raw_data.loc[raw_data['userid'] == (i+1)].rating))\n",
    "    for j in range(len(itemids)):\n",
    "        # check if user has rated item with id j+1\n",
    "        if j+1 in user_ratings:\n",
    "            data[i][j] = user_ratings[j+1]\n",
    "\n",
    "data = np.array(data)\n",
    "\n",
    "# Read movie name and genre data\n",
    "genres = pd.read_csv('./ml-100k/u.genre', sep='|', names=['genre', 'id'])\n",
    "genres = genres['genre'].tolist()\n",
    "names = ['itemid', 'name', 'date', 'moviedate', 'url'] + genres\n",
    "item_data = pd.read_csv('./ml-100k/u.item', sep='|', names=names, encoding = \"ISO-8859-1\", header=None)"
   ]
  },
  {
   "cell_type": "code",
   "execution_count": 79,
   "metadata": {},
   "outputs": [],
   "source": [
    "# Movie data class, saves movie name and genres it belongs to \n",
    "\n",
    "@dataclass\n",
    "class Movie:\n",
    "    id: int\n",
    "    title: str\n",
    "    genres: List[str] = field(default_factory=list)\n",
    "\n",
    "movies = []\n",
    "\n",
    "for id in itemids:\n",
    "    item = item_data.loc[item_data['itemid'] == id].values.tolist()[0]\n",
    "    \n",
    "    tmp_genres = []\n",
    "    i = 0\n",
    "    for g in item[5:]:\n",
    "        belongs = g\n",
    "        if belongs:\n",
    "            tmp_genres.append(genres[i])\n",
    "        i += 1\n",
    "\n",
    "    movies.append(Movie(id, item[1], tmp_genres))"
   ]
  },
  {
   "cell_type": "markdown",
   "metadata": {},
   "source": [
    "## User-based collaborative filtering approach from Assignment 1"
   ]
  },
  {
   "cell_type": "code",
   "execution_count": 4,
   "metadata": {},
   "outputs": [],
   "source": [
    "# a, b = userids, data = whole data set\n",
    "def similarity(a,b, data):\n",
    "    data_a = data[a-1] # remember that indexing starts from 0, but userids from 1\n",
    "    data_b = data[b-1]\n",
    "\n",
    "    # dicts with itemids and ratings\n",
    "    dict_a = {i: r for i, r in enumerate(data_a, start=1) if r is not None}\n",
    "    dict_b = {i: r for i, r in enumerate(data_b, start=1) if r is not None}\n",
    "\n",
    "    # intersections of common itemids\n",
    "    P = list(set(dict_a).intersection(set(dict_b)))\n",
    "\n",
    "    if len(P) < 2:\n",
    "        return 0\n",
    "\n",
    "    # keep only common itemids\n",
    "    dict_a = {id: dict_a[id] for id in P}\n",
    "    dict_b = {id: dict_b[id] for id in P}\n",
    "\n",
    "    # Create constants\n",
    "    const_a = list(dict_a.values())\n",
    "    const_b = list(dict_b.values())\n",
    "\n",
    "    sim, p = stats.pearsonr(const_a, const_b)\n",
    "\n",
    "    # Check for NaN\n",
    "    if sim != sim:\n",
    "        return 0\n",
    "    return sim"
   ]
  },
  {
   "cell_type": "code",
   "execution_count": 5,
   "metadata": {},
   "outputs": [
    {
     "name": "stderr",
     "output_type": "stream",
     "text": [
      "B:\\Anaconda\\envs\\recommender\\lib\\site-packages\\scipy\\stats\\stats.py:4023: PearsonRConstantInputWarning: An input array is constant; the correlation coefficient is not defined.\n",
      "  warnings.warn(PearsonRConstantInputWarning())\n"
     ]
    }
   ],
   "source": [
    "# Similarity matrix\n",
    "N = 0\n",
    "sim_matrix = [[1] * len(userids) for x in range(len(userids))]\n",
    "for i in range(len(userids)):\n",
    "    for j in range(i+1, len(userids)):\n",
    "        sim_matrix[i][j] = sim_matrix[j][i] = similarity(i+1, j+1, data)\n",
    "\n",
    "sim_matrix = np.array(sim_matrix)"
   ]
  },
  {
   "cell_type": "code",
   "execution_count": 6,
   "metadata": {},
   "outputs": [],
   "source": [
    "# a = userid, p = itemid, data = whole data set, \n",
    "# sim = similarity matrix t = similarity threshold\n",
    "def predict(a, p, data, sim_matrix, t):\n",
    "    sim = sim_matrix[a-1]\n",
    "    # mean of ratings given by user a\n",
    "    mean_a = np.mean([r for r in data[a-1] if r is not None])\n",
    "\n",
    "    # transform similarities to dict (key = userid, value = similarity) and filter out unvanted similarities\n",
    "    sim = {i: s for i, s in enumerate(sim, start=1) if s >= t}\n",
    "\n",
    "    n = 0\n",
    "    d = 0\n",
    "\n",
    "    for b in sim:\n",
    "        # chekc if user b has not rated the item\n",
    "        if data[b-1][p-1] == None:\n",
    "            continue\n",
    "\n",
    "        mean_b = np.mean([r for r in data[b-1] if r is not None])\n",
    "        n += sim[b] * (data[b-1][p-1] - mean_b)\n",
    "        d += sim[b]\n",
    "\n",
    "    if n == 0:\n",
    "        return mean_a\n",
    "\n",
    "    return mean_a + n/d"
   ]
  },
  {
   "cell_type": "markdown",
   "metadata": {},
   "source": [
    "## Average aggregation method"
   ]
  },
  {
   "cell_type": "code",
   "execution_count": 7,
   "metadata": {},
   "outputs": [],
   "source": [
    "# g = groud of users (list of usedids), i = itemid, data = whole dataset\n",
    "def average_aggregation(g, i, data):\n",
    "    # ratings for item i, given by users in the group\n",
    "    ratings = []\n",
    "\n",
    "    # obtaing ratings, either from data or predict it\n",
    "    for user in g:\n",
    "        rating = data[user-1][i-1]\n",
    "        if rating == None:\n",
    "            rating = predict(user, i, data, sim_matrix, 10)\n",
    "        ratings.append(rating)\n",
    "    \n",
    "    return np.average(ratings)"
   ]
  },
  {
   "cell_type": "markdown",
   "metadata": {},
   "source": [
    "## Top 20 recommendations for a group of 3 users"
   ]
  },
  {
   "cell_type": "code",
   "execution_count": 87,
   "metadata": {},
   "outputs": [
    {
     "name": "stdout",
     "output_type": "stream",
     "text": [
      "    itemid    rating\n",
      "0      258  4.666667\n",
      "1        9  4.513889\n",
      "2       15  4.513889\n",
      "3      173  4.513889\n",
      "4      196  4.513889\n",
      "5      268  4.513889\n",
      "6      269  4.488029\n",
      "7      286  4.203431\n",
      "8       28  4.180556\n",
      "9       86  4.180556\n",
      "10     100  4.180556\n",
      "11     111  4.180556\n",
      "12     191  4.180556\n",
      "13     208  4.180556\n",
      "14     242  4.154696\n",
      "15     277  4.050654\n",
      "16     318  4.050654\n",
      "17     332  4.050654\n",
      "18     357  4.050654\n",
      "19     423  4.050654\n",
      "20     429  4.050654\n"
     ]
    }
   ],
   "source": [
    "g = [1, 11, 111]\n",
    "# dict for group ratings for all items (key=itemid, value=group rating for item)\n",
    "ratings = {}\n",
    "\n",
    "for i in itemids:\n",
    "    ratings[i] = average_aggregation(g, i, data)\n",
    "\n",
    "# sort dict so that highly rated items for the group are first\n",
    "ratings = dict(sorted(ratings.items(), key=lambda x: x[1], reverse=True))\n",
    "\n",
    "recommendations = dict(list(ratings.items())[:20])\n",
    "df = pd.DataFrame(list(zip(list(recommendations.keys()), list(recommendations.values()))), columns=['itemid', 'rating'])\n",
    "print(df)"
   ]
  },
  {
   "cell_type": "code",
   "execution_count": 93,
   "metadata": {},
   "outputs": [
    {
     "name": "stdout",
     "output_type": "stream",
     "text": [
      "does not exist :'(\n",
      "4.513888888888888\n",
      "2\n",
      "item WAS recommended, dummy\n",
      "4.050653594771242\n",
      "21\n",
      "tie break\n",
      "user asked for too few items\n"
     ]
    }
   ],
   "source": [
    "# itemid = why not this item, r = ratings for all items for the group, g = group userids, data = whole dataset\n",
    "def granularity_case_atomic(itemid, r, g, data):\n",
    "    # check if item does not exist in data\n",
    "    if itemid not in itemids:\n",
    "        print('does not exist :\\'(')\n",
    "        return\n",
    "\n",
    "    # groups rating for the item in question\n",
    "    rating = r[itemid]\n",
    "\n",
    "    # ratings in list format (needed to get indeces)\n",
    "    ratings_list = list(ratings.items())\n",
    "\n",
    "    # placing on the group ratings (best = 1)\n",
    "    index = list(ratings.keys()).index(itemid) + 1\n",
    "\n",
    "    # check if item was actually recommended\n",
    "    if index <= 20:\n",
    "        print('item WAS recommended, dummy')\n",
    "        return\n",
    "\n",
    "    # check tie break\n",
    "    if rating == ratings_list[19][1]:\n",
    "        print('tie break')\n",
    "\n",
    "    # check if item would have been recommended if user asked for more items\n",
    "    # threshold for this case = 20\n",
    "    if index <= 40:\n",
    "        print('user asked for too few items')\n",
    "\n",
    "\n",
    "granularity_case_atomic(5321321, ratings, g, data)\n",
    "granularity_case_atomic(9, ratings, g, data)\n",
    "granularity_case_atomic(429, ratings, g, data)"
   ]
  },
  {
   "cell_type": "code",
   "execution_count": 180,
   "metadata": {},
   "outputs": [
    {
     "data": {
      "image/png": "[encoded data removed]",
      "text/plain": [
       "<Figure size 432x288 with 1 Axes>"
      ]
     },
     "metadata": {
      "needs_background": "light"
     },
     "output_type": "display_data"
    },
    {
     "data": {
      "image/png": "[encoded data removed]",
      "text/plain": [
       "<Figure size 432x288 with 1 Axes>"
      ]
     },
     "metadata": {
      "needs_background": "light"
     },
     "output_type": "display_data"
    },
    {
     "data": {
      "image/png": "[encoded data removed]",
      "text/plain": [
       "<Figure size 432x288 with 1 Axes>"
      ]
     },
     "metadata": {
      "needs_background": "light"
     },
     "output_type": "display_data"
    },
    {
     "name": "stdout",
     "output_type": "stream",
     "text": [
      "Probability that genre Western appears in the groups top 20 (assuming that the group on average likes all genres equally):\n",
      "33.905 %\n"
     ]
    }
   ],
   "source": [
    "def granularity_case_group(why_not_genre, r, g, data):\n",
    "    # ratings in list format (needed to get indeces)\n",
    "    ratings_list = list(ratings.items())\n",
    "    \n",
    "    recommendations_histogram, genre_rating_avg_all, genre_rating_avg, genre_rating_max, genre_histogram, seen_movies= group_genre_data(g, r, data)\n",
    "\n",
    "    # top 20 recommendation genre histogram\n",
    "    plt.barh(list(recommendations_histogram.keys()), recommendations_histogram.values())\n",
    "    plt.title('Top 20 recommendations by genre')\n",
    "    plt.show()\n",
    "\n",
    "    # Groups common movies genre histogram\n",
    "    genre_index = list(genre_histogram.keys()).index(why_not_genre)\n",
    "    barlist = plt.barh(list(genre_histogram.keys()), genre_histogram.values())\n",
    "    barlist[genre_index].set_color('r')\n",
    "    plt.title('Group common movies by genre (why not genre is highlighted)')\n",
    "    plt.show()\n",
    "\n",
    "    # Group top rating for each genre\n",
    "    genre_index = list(genre_rating_max.keys()).index(why_not_genre)\n",
    "    genre_max = plt.bar(list(genre_rating_max.keys()), genre_rating_max.values())\n",
    "    genre_max[genre_index].set_color('r')\n",
    "\n",
    "    for genre in recommendations_histogram:\n",
    "        index = list(genre_rating_max.keys()).index(genre)\n",
    "        genre_max[index].set_color('g')\n",
    "    \n",
    "    plt.axhline(y=ratings_list[19][1], color='r', linestyle='-')\n",
    "    ax = plt.gca()\n",
    "    ax.set_ylim([min(list(genre_rating_max.values()))-0.2, 5])\n",
    "    custom_lines = [Line2D([0], [0], color='b', lw=4),\n",
    "                    Line2D([0], [0], color='r', lw=4),\n",
    "                    Line2D([0], [0], color='g', lw=4)]\n",
    "\n",
    "    ax.legend(custom_lines, ['Not passed', 'Why-not genre', 'Passed'])\n",
    "    plt.xticks(rotation=90)\n",
    "    plt.title('Group top rating for each genre')\n",
    "    plt.show()\n",
    "\n",
    "    # probability that the why-not genre appears in top 20\n",
    "    why_not_genre_movies = genre_histogram[why_not_genre]\n",
    "    prob = 1 - (math.comb(seen_movies - why_not_genre_movies, 20) / math.comb(seen_movies, 20))\n",
    "\n",
    "\n",
    "    print('Probability that genre', why_not_genre, 'appears in the groups top 20 (assuming that the group on average likes all genres equally):')\n",
    "    print(np.round(prob * 100, 3),  '%')\n",
    "\n",
    "granularity_case_group('Western', ratings, g, data)"
   ]
  },
  {
   "cell_type": "code",
   "execution_count": 162,
   "metadata": {},
   "outputs": [],
   "source": [
    "# get genre data for the groups recommended movies and seen movies\n",
    "def group_genre_data(g, r, data):\n",
    "    # top 20 recommendations histogram\n",
    "    recommendations_histogram = {}\n",
    "\n",
    "    # ratings in list format (needed to get indeces)\n",
    "    ratings_list = list(ratings.items())\n",
    "\n",
    "    for movie in ratings_list[:20]:\n",
    "        for genre in movies[movie[0]-1].genres:\n",
    "            if genre not in recommendations_histogram:\n",
    "                recommendations_histogram[genre] = 1\n",
    "            else:\n",
    "                recommendations_histogram[genre] = recommendations_histogram[genre] + 1\n",
    "\n",
    "    # group average ratings for all movies\n",
    "    genre_rating_avg_all = {}\n",
    "    for movie in ratings_list:\n",
    "        for genre in movies[movie[0]-1].genres:\n",
    "            if genre not in genre_rating_avg_all:\n",
    "                genre_rating_avg_all[genre] = [movie[1]]\n",
    "            else:\n",
    "                tmp_genre_ratings = genre_rating_avg_all[genre]\n",
    "                tmp_genre_ratings.append(movie[1])\n",
    "                genre_rating_avg_all[genre] = tmp_genre_ratings\n",
    "    \n",
    "    for genre in genre_rating_avg_all:\n",
    "        genre_rating_avg_all[genre] = np.average(genre_rating_avg_all[genre])\n",
    "\n",
    "    \n",
    "    # see what genres the users in the group have watched and ratings for movies in those genres\n",
    "    genre_ratings = {}\n",
    "    genre_histogram = {}\n",
    "    seen_movies = []\n",
    "    for user in g:\n",
    "        for itemid in itemids:\n",
    "            rating = data[user-1][itemid-1]\n",
    "            if rating != None:\n",
    "                if itemid not in seen_movies:\n",
    "                    for genre in movies[itemid-1].genres:\n",
    "                        if genre not in genre_histogram:\n",
    "                            genre_histogram[genre] = 1\n",
    "                        else:\n",
    "                            genre_histogram[genre] = genre_histogram[genre] + 1\n",
    "\n",
    "                        if genre not in genre_ratings:\n",
    "                            genre_ratings[genre] = [r[itemid]]\n",
    "                        else:\n",
    "                            tmp_genre_ratings = genre_ratings[genre]\n",
    "                            tmp_genre_ratings.append(r[itemid])\n",
    "                            genre_ratings[genre] = tmp_genre_ratings\n",
    "                    \n",
    "                    # keep track the movies that have already been taken into account in histogram and average\n",
    "                    seen_movies.append(itemid)\n",
    "    \n",
    "    genre_rating_avg = {}\n",
    "    genre_rating_max = {}\n",
    "\n",
    "    for genre in genre_ratings:\n",
    "        genre_rating_avg[genre] = np.average(genre_ratings[genre])\n",
    "        genre_rating_max[genre] = max(genre_ratings[genre])\n",
    "    \n",
    "    return recommendations_histogram, genre_rating_avg_all, genre_rating_avg, genre_rating_max, genre_histogram, len(seen_movies)"
   ]
  },
  {
   "cell_type": "code",
   "execution_count": null,
   "metadata": {},
   "outputs": [],
   "source": []
  },
  {
   "cell_type": "code",
   "execution_count": 9,
   "metadata": {},
   "outputs": [],
   "source": [
    "def disagreement_variance(g, i, data):\n",
    "    # ratings for item i, given by users in the group\n",
    "    ratings = []\n",
    "\n",
    "    # obtaing ratings, either from data or predict it\n",
    "    for user in g:\n",
    "        rating = data[user-1][i-1]\n",
    "        if rating == None:\n",
    "            rating = predict(user, i, data, sim_matrix, 10)\n",
    "        ratings.append(rating)\n",
    "    \n",
    "    ratings_mean = np.mean(ratings)\n",
    "\n",
    "    # calculate and return the disagreement variance acording to the formula presented above\n",
    "    dis = (1/len(ratings) * np.sum([(r - ratings_mean) ** 2 for r  in ratings]))\n",
    "    return dis"
   ]
  },
  {
   "cell_type": "code",
   "execution_count": 10,
   "metadata": {},
   "outputs": [],
   "source": [
    "def consensus(g, i, data):\n",
    "    w1 = 0.9\n",
    "    w2 = 1-w1\n",
    "    return w1 * average_aggregation(g, i, data) + w2 * (1-disagreement_variance(g, i, data))"
   ]
  }
 ],
 "metadata": {
  "interpreter": {
   "hash": "0f003dec6ba308691a84b457b1e8a70b369dfcd15d207cf34485669f808cefed"
  },
  "kernelspec": {
   "display_name": "Python 3 (ipykernel)",
   "language": "python",
   "name": "python3"
  },
  "language_info": {
   "codemirror_mode": {
    "name": "ipython",
    "version": 3
   },
   "file_extension": ".py",
   "mimetype": "text/x-python",
   "name": "python",
   "nbconvert_exporter": "python",
   "pygments_lexer": "ipython3",
   "version": "3.8.12"
  }
 },
 "nbformat": 4,
 "nbformat_minor": 4
}
