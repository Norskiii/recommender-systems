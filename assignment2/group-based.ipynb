{
 "cells": [
  {
   "cell_type": "code",
   "execution_count": 14,
   "metadata": {},
   "outputs": [],
   "source": [
    "import numpy as np\n",
    "import pandas as pd\n",
    "import matplotlib.pyplot as plt\n",
    "import seaborn as sb\n",
    "from scipy import stats"
   ]
  },
  {
   "cell_type": "code",
   "execution_count": 33,
   "metadata": {},
   "outputs": [],
   "source": [
    "# Read data\n",
    "names = ['userid', 'itemid', 'rating', 'timestamp']\n",
    "raw_data = pd.read_csv('./ml-100k/u.data', sep='\\t', names=names)\n",
    "\n",
    "# save data in a numpy array where each user ratings have their own rows\n",
    "userids = sorted(list(raw_data['userid'].unique()))\n",
    "itemids = sorted(list(raw_data['itemid'].unique()))\n",
    "\n",
    "# first save in list of lists, use None values if user has not rated item\n",
    "data = [[None] * len(itemids) for x in range(len(userids))]\n",
    "\n",
    "# find ratings made by each user\n",
    "for i in range(len(userids)):\n",
    "    # dict of ratings for user i+1 (key = itemid, value = rating)\n",
    "    user_ratings = dict(zip(raw_data.loc[raw_data['userid'] == (i+1)].itemid, raw_data.loc[raw_data['userid'] == (i+1)].rating))\n",
    "    for j in range(len(itemids)):\n",
    "        # check if user has rated item with id j+1\n",
    "        if j+1 in user_ratings:\n",
    "            data[i][j] = user_ratings[j+1]\n",
    "\n",
    "data = np.array(data)"
   ]
  },
  {
   "cell_type": "code",
   "execution_count": 28,
   "metadata": {},
   "outputs": [],
   "source": [
    "# a, b = userids, data = whole data set\n",
    "def similarity(a,b, data):\n",
    "    data_a = data[a-1] # remember that indexing starts from 0, but userids from 1\n",
    "    data_b = data[b-1]\n",
    "\n",
    "    # dicts with itemids and ratings\n",
    "    dict_a = {i: r for i, r in enumerate(data_a, start=1) if r is not None}\n",
    "    dict_b = {i: r for i, r in enumerate(data_b, start=1) if r is not None}\n",
    "\n",
    "    # intersections of common itemids\n",
    "    P = list(set(dict_a).intersection(set(dict_b)))\n",
    "\n",
    "    if len(P) < 2:\n",
    "        return 0\n",
    "\n",
    "    # keep only common itemids\n",
    "    dict_a = {id: dict_a[id] for id in P}\n",
    "    dict_b = {id: dict_b[id] for id in P}\n",
    "\n",
    "    # Create constants\n",
    "    const_a = list(dict_a.values())\n",
    "    const_b = list(dict_b.values())\n",
    "\n",
    "    sim, p = stats.pearsonr(const_a, const_b)\n",
    "\n",
    "    # Check for NaN\n",
    "    if sim != sim:\n",
    "        return 0\n",
    "    return sim"
   ]
  },
  {
   "cell_type": "code",
   "execution_count": 32,
   "metadata": {},
   "outputs": [
    {
     "name": "stdout",
     "output_type": "stream",
     "text": [
      "444153\n"
     ]
    }
   ],
   "source": [
    "# Similarity matrix\n",
    "N = 0\n",
    "sim_matrix = [[1] * len(userids) for x in range(len(userids))]\n",
    "for i in range(len(userids)):\n",
    "    for j in range(i+1, len(userids)):\n",
    "        sim_matrix[i][j] = sim_matrix[j][i] = similarity(i+1, j+1, data)\n",
    "\n",
    "sim_matrix = np.array(sim_matrix)"
   ]
  }
 ],
 "metadata": {
  "interpreter": {
   "hash": "c7ca8f34926b3cc197312b261d4fe8e44a0a6c3f78c576eb8da8e877f545a287"
  },
  "kernelspec": {
   "display_name": "Python 3.9.7 64-bit ('recommender': conda)",
   "name": "python3"
  },
  "language_info": {
   "codemirror_mode": {
    "name": "ipython",
    "version": 3
   },
   "file_extension": ".py",
   "mimetype": "text/x-python",
   "name": "python",
   "nbconvert_exporter": "python",
   "pygments_lexer": "ipython3",
   "version": "3.9.7"
  },
  "orig_nbformat": 4
 },
 "nbformat": 4,
 "nbformat_minor": 2
}
